{
  "nbformat": 4,
  "nbformat_minor": 0,
  "metadata": {
    "colab": {
      "provenance": [],
      "include_colab_link": true
    },
    "kernelspec": {
      "name": "python3",
      "display_name": "Python 3"
    },
    "language_info": {
      "name": "python"
    }
  },
  "cells": [
    {
      "cell_type": "markdown",
      "metadata": {
        "id": "view-in-github",
        "colab_type": "text"
      },
      "source": [
        "<a href=\"https://colab.research.google.com/github/danielgarciabr/agenteIAexperimental/blob/main/Agente_IA.ipynb\" target=\"_parent\"><img src=\"https://colab.research.google.com/assets/colab-badge.svg\" alt=\"Open In Colab\"/></a>"
      ]
    },
    {
      "cell_type": "code",
      "source": [
        "%pip -q install google-genai"
      ],
      "metadata": {
        "id": "UCCbECexLk_h"
      },
      "execution_count": 2,
      "outputs": []
    },
    {
      "cell_type": "code",
      "source": [
        "# Configura a API Key do Google Gemini\n",
        "\n",
        "import os\n",
        "from google.colab import userdata\n",
        "\n",
        "os.environ[\"GOOGLE_API_KEY\"] = userdata.get('GOOGLE_API_KEY')"
      ],
      "metadata": {
        "id": "NfCqHo1tLk8P"
      },
      "execution_count": 3,
      "outputs": []
    },
    {
      "cell_type": "code",
      "source": [
        "# Configura o cliente da SDK do Gemini\n",
        "\n",
        "from google import genai\n",
        "\n",
        "client = genai.Client()\n",
        "\n",
        "MODEL_ID = \"gemini-2.0-flash\""
      ],
      "metadata": {
        "id": "bV4w0H5TLk5g"
      },
      "execution_count": 4,
      "outputs": []
    },
    {
      "cell_type": "code",
      "source": [
        "# Pergunta ao Gemini uma informação mais recente que seu conhecimento\n",
        "\n",
        "from IPython.display import HTML, Markdown\n",
        "\n",
        "# Perguntar pro modelo quando é a próxima imersão de IA ###############################################\n",
        "resposta = client.models.generate_content(\n",
        "    model=MODEL_ID,\n",
        "    contents='Quando é a próxima Imersão IA com Google Gemini da Alura?',\n",
        ")\n",
        "\n",
        "# Exibe a resposta na tela\n",
        "display(Markdown(f\"Resposta:\\n {resposta.text}\"))"
      ],
      "metadata": {
        "id": "HwVP7Xi34Zuw",
        "colab": {
          "base_uri": "https://localhost:8080/",
          "height": 122
        },
        "outputId": "9668e551-5f29-433d-946d-3882a55799f7"
      },
      "execution_count": 5,
      "outputs": [
        {
          "output_type": "display_data",
          "data": {
            "text/plain": [
              "<IPython.core.display.Markdown object>"
            ],
            "text/markdown": "Resposta:\n A Alura não tem uma data fixa para a Imersão IA com Google Gemini. A melhor forma de saber sobre as próximas edições é:\n\n*   **Acessar a página da Imersão:** Procure no site da Alura por \"Imersão IA com Google Gemini\" ou \"Google Gemini Alura\". Lá, você pode encontrar informações sobre edições passadas e, possivelmente, um formulário para se inscrever e receber notificações sobre futuras turmas.\n*   **Seguir a Alura nas redes sociais:** A Alura costuma divulgar seus eventos e cursos em plataformas como LinkedIn, Instagram, Twitter e Facebook.\n*   **Inscrever-se na newsletter da Alura:** Assim, você receberá novidades e informações sobre os próximos cursos e imersões diretamente no seu e-mail."
          },
          "metadata": {}
        }
      ]
    },
    {
      "cell_type": "code",
      "source": [
        "# Pergunta ao Gemini uma informação utilizando a busca do Google como contexto\n",
        "\n",
        "response = client.models.generate_content(\n",
        "    model=MODEL_ID,\n",
        "    contents='Quando é a próxima Imersão IA com Google Gemini da Alura?',\n",
        "    config={\"tools\": [{\"google_search\": {}}]}\n",
        ")\n",
        "\n",
        "# Exibe a resposta na tela\n",
        "display(Markdown(f\"Resposta:\\n {response.text}\"))"
      ],
      "metadata": {
        "id": "yXaZd7iZ4ftw",
        "colab": {
          "base_uri": "https://localhost:8080/",
          "height": 87
        },
        "outputId": "356b812c-0b05-4aeb-9db0-5fc1559feaaf"
      },
      "execution_count": 6,
      "outputs": [
        {
          "output_type": "display_data",
          "data": {
            "text/plain": [
              "<IPython.core.display.Markdown object>"
            ],
            "text/markdown": "Resposta:\n A última Imersão IA com Google Gemini da Alura aconteceu entre os dias 12 e 16 de maio de 2025. As inscrições para esta edição se encerraram no dia 11 de maio de 2025.\n\nPara saber sobre as próximas edições, você pode acompanhar o site da Alura: [https://www.alura.com.br/imersao-ia-google-gemini-ii](https://www.alura.com.br/imersao-ia-google-gemini-ii).\n"
          },
          "metadata": {}
        }
      ]
    },
    {
      "cell_type": "code",
      "source": [
        "# Exibe a busca\n",
        "print(f\"Busca realizada: {response.candidates[0].grounding_metadata.web_search_queries}\")\n",
        "# Exibe as URLs nas quais ele se baseou\n",
        "print(f\"Páginas utilizadas na resposta: {', '.join([site.web.title for site in response.candidates[0].grounding_metadata.grounding_chunks])}\")\n",
        "print()\n",
        "display(HTML(response.candidates[0].grounding_metadata.search_entry_point.rendered_content))"
      ],
      "metadata": {
        "id": "xHSNlTd84heJ",
        "colab": {
          "base_uri": "https://localhost:8080/",
          "height": 116
        },
        "outputId": "03299cbb-cba6-499c-b042-f787faf03356"
      },
      "execution_count": 7,
      "outputs": [
        {
          "output_type": "stream",
          "name": "stdout",
          "text": [
            "Busca realizada: ['próxima imersão IA com Google Gemini Alura']\n",
            "Páginas utilizadas na resposta: alura.com.br, starten.tech\n",
            "\n"
          ]
        },
        {
          "output_type": "display_data",
          "data": {
            "text/plain": [
              "<IPython.core.display.HTML object>"
            ],
            "text/html": [
              "<style>\n",
              ".container {\n",
              "  align-items: center;\n",
              "  border-radius: 8px;\n",
              "  display: flex;\n",
              "  font-family: Google Sans, Roboto, sans-serif;\n",
              "  font-size: 14px;\n",
              "  line-height: 20px;\n",
              "  padding: 8px 12px;\n",
              "}\n",
              ".chip {\n",
              "  display: inline-block;\n",
              "  border: solid 1px;\n",
              "  border-radius: 16px;\n",
              "  min-width: 14px;\n",
              "  padding: 5px 16px;\n",
              "  text-align: center;\n",
              "  user-select: none;\n",
              "  margin: 0 8px;\n",
              "  -webkit-tap-highlight-color: transparent;\n",
              "}\n",
              ".carousel {\n",
              "  overflow: auto;\n",
              "  scrollbar-width: none;\n",
              "  white-space: nowrap;\n",
              "  margin-right: -12px;\n",
              "}\n",
              ".headline {\n",
              "  display: flex;\n",
              "  margin-right: 4px;\n",
              "}\n",
              ".gradient-container {\n",
              "  position: relative;\n",
              "}\n",
              ".gradient {\n",
              "  position: absolute;\n",
              "  transform: translate(3px, -9px);\n",
              "  height: 36px;\n",
              "  width: 9px;\n",
              "}\n",
              "@media (prefers-color-scheme: light) {\n",
              "  .container {\n",
              "    background-color: #fafafa;\n",
              "    box-shadow: 0 0 0 1px #0000000f;\n",
              "  }\n",
              "  .headline-label {\n",
              "    color: #1f1f1f;\n",
              "  }\n",
              "  .chip {\n",
              "    background-color: #ffffff;\n",
              "    border-color: #d2d2d2;\n",
              "    color: #5e5e5e;\n",
              "    text-decoration: none;\n",
              "  }\n",
              "  .chip:hover {\n",
              "    background-color: #f2f2f2;\n",
              "  }\n",
              "  .chip:focus {\n",
              "    background-color: #f2f2f2;\n",
              "  }\n",
              "  .chip:active {\n",
              "    background-color: #d8d8d8;\n",
              "    border-color: #b6b6b6;\n",
              "  }\n",
              "  .logo-dark {\n",
              "    display: none;\n",
              "  }\n",
              "  .gradient {\n",
              "    background: linear-gradient(90deg, #fafafa 15%, #fafafa00 100%);\n",
              "  }\n",
              "}\n",
              "@media (prefers-color-scheme: dark) {\n",
              "  .container {\n",
              "    background-color: #1f1f1f;\n",
              "    box-shadow: 0 0 0 1px #ffffff26;\n",
              "  }\n",
              "  .headline-label {\n",
              "    color: #fff;\n",
              "  }\n",
              "  .chip {\n",
              "    background-color: #2c2c2c;\n",
              "    border-color: #3c4043;\n",
              "    color: #fff;\n",
              "    text-decoration: none;\n",
              "  }\n",
              "  .chip:hover {\n",
              "    background-color: #353536;\n",
              "  }\n",
              "  .chip:focus {\n",
              "    background-color: #353536;\n",
              "  }\n",
              "  .chip:active {\n",
              "    background-color: #464849;\n",
              "    border-color: #53575b;\n",
              "  }\n",
              "  .logo-light {\n",
              "    display: none;\n",
              "  }\n",
              "  .gradient {\n",
              "    background: linear-gradient(90deg, #1f1f1f 15%, #1f1f1f00 100%);\n",
              "  }\n",
              "}\n",
              "</style>\n",
              "<div class=\"container\">\n",
              "  <div class=\"headline\">\n",
              "    <svg class=\"logo-light\" width=\"18\" height=\"18\" viewBox=\"9 9 35 35\" fill=\"none\" xmlns=\"http://www.w3.org/2000/svg\">\n",
              "      <path fill-rule=\"evenodd\" clip-rule=\"evenodd\" d=\"M42.8622 27.0064C42.8622 25.7839 42.7525 24.6084 42.5487 23.4799H26.3109V30.1568H35.5897C35.1821 32.3041 33.9596 34.1222 32.1258 35.3448V39.6864H37.7213C40.9814 36.677 42.8622 32.2571 42.8622 27.0064V27.0064Z\" fill=\"#4285F4\"/>\n",
              "      <path fill-rule=\"evenodd\" clip-rule=\"evenodd\" d=\"M26.3109 43.8555C30.9659 43.8555 34.8687 42.3195 37.7213 39.6863L32.1258 35.3447C30.5898 36.3792 28.6306 37.0061 26.3109 37.0061C21.8282 37.0061 18.0195 33.9811 16.6559 29.906H10.9194V34.3573C13.7563 39.9841 19.5712 43.8555 26.3109 43.8555V43.8555Z\" fill=\"#34A853\"/>\n",
              "      <path fill-rule=\"evenodd\" clip-rule=\"evenodd\" d=\"M16.6559 29.8904C16.3111 28.8559 16.1074 27.7588 16.1074 26.6146C16.1074 25.4704 16.3111 24.3733 16.6559 23.3388V18.8875H10.9194C9.74388 21.2072 9.06992 23.8247 9.06992 26.6146C9.06992 29.4045 9.74388 32.022 10.9194 34.3417L15.3864 30.8621L16.6559 29.8904V29.8904Z\" fill=\"#FBBC05\"/>\n",
              "      <path fill-rule=\"evenodd\" clip-rule=\"evenodd\" d=\"M26.3109 16.2386C28.85 16.2386 31.107 17.1164 32.9095 18.8091L37.8466 13.8719C34.853 11.082 30.9659 9.3736 26.3109 9.3736C19.5712 9.3736 13.7563 13.245 10.9194 18.8875L16.6559 23.3388C18.0195 19.2636 21.8282 16.2386 26.3109 16.2386V16.2386Z\" fill=\"#EA4335\"/>\n",
              "    </svg>\n",
              "    <svg class=\"logo-dark\" width=\"18\" height=\"18\" viewBox=\"0 0 48 48\" xmlns=\"http://www.w3.org/2000/svg\">\n",
              "      <circle cx=\"24\" cy=\"23\" fill=\"#FFF\" r=\"22\"/>\n",
              "      <path d=\"M33.76 34.26c2.75-2.56 4.49-6.37 4.49-11.26 0-.89-.08-1.84-.29-3H24.01v5.99h8.03c-.4 2.02-1.5 3.56-3.07 4.56v.75l3.91 2.97h.88z\" fill=\"#4285F4\"/>\n",
              "      <path d=\"M15.58 25.77A8.845 8.845 0 0 0 24 31.86c1.92 0 3.62-.46 4.97-1.31l4.79 3.71C31.14 36.7 27.65 38 24 38c-5.93 0-11.01-3.4-13.45-8.36l.17-1.01 4.06-2.85h.8z\" fill=\"#34A853\"/>\n",
              "      <path d=\"M15.59 20.21a8.864 8.864 0 0 0 0 5.58l-5.03 3.86c-.98-2-1.53-4.25-1.53-6.64 0-2.39.55-4.64 1.53-6.64l1-.22 3.81 2.98.22 1.08z\" fill=\"#FBBC05\"/>\n",
              "      <path d=\"M24 14.14c2.11 0 4.02.75 5.52 1.98l4.36-4.36C31.22 9.43 27.81 8 24 8c-5.93 0-11.01 3.4-13.45 8.36l5.03 3.85A8.86 8.86 0 0 1 24 14.14z\" fill=\"#EA4335\"/>\n",
              "    </svg>\n",
              "    <div class=\"gradient-container\"><div class=\"gradient\"></div></div>\n",
              "  </div>\n",
              "  <div class=\"carousel\">\n",
              "    <a class=\"chip\" href=\"https://vertexaisearch.cloud.google.com/grounding-api-redirect/AbF9wXF7nRW390J56tJXiQjSM2uQ6hB_cqXh6FjvQ0yU1DNQSEeG4tg3YBU1DlCYyO-67oQqnx15-UnvDhEPh1eVz7Om7TjN3Gojkbh6fTSY3CXA2E_b5VVGIzbTIS8pnRfyd_BTfTjg7lpbdIdGdzmjua-nNJFNrRvIBD382FX_f8fJaHVu1zeailO-jJKDFwOslJ9DBm5vAQCVJAD005CzmXc48tPpFUpmT_VCL1V4oFSpDKiMQVDXsx5L\">próxima imersão IA com Google Gemini Alura</a>\n",
              "  </div>\n",
              "</div>\n"
            ]
          },
          "metadata": {}
        }
      ]
    },
    {
      "cell_type": "code",
      "source": [
        "# Instalar Framework ADK de agentes do Google ################################################\n",
        "%pip -q install google-adk\n"
      ],
      "metadata": {
        "id": "hvZ3UnPI4jhJ",
        "colab": {
          "base_uri": "https://localhost:8080/"
        },
        "outputId": "8b216f7d-c8dc-470b-ba7d-b4fc0b18bb42"
      },
      "execution_count": 8,
      "outputs": [
        {
          "output_type": "stream",
          "name": "stdout",
          "text": [
            "\u001b[?25l   \u001b[90m━━━━━━━━━━━━━━━━━━━━━━━━━━━━━━━━━━━━━━━━\u001b[0m \u001b[32m0.0/1.2 MB\u001b[0m \u001b[31m?\u001b[0m eta \u001b[36m-:--:--\u001b[0m\r\u001b[2K   \u001b[91m━━━━━━━━━━━━━━━\u001b[0m\u001b[91m╸\u001b[0m\u001b[90m━━━━━━━━━━━━━━━━━━━━━━━━\u001b[0m \u001b[32m0.5/1.2 MB\u001b[0m \u001b[31m13.8 MB/s\u001b[0m eta \u001b[36m0:00:01\u001b[0m\r\u001b[2K   \u001b[90m━━━━━━━━━━━━━━━━━━━━━━━━━━━━━━━━━━━━━━━━\u001b[0m \u001b[32m1.2/1.2 MB\u001b[0m \u001b[31m17.9 MB/s\u001b[0m eta \u001b[36m0:00:00\u001b[0m\n",
            "\u001b[?25h\u001b[?25l   \u001b[90m━━━━━━━━━━━━━━━━━━━━━━━━━━━━━━━━━━━━━━━━\u001b[0m \u001b[32m0.0/232.1 kB\u001b[0m \u001b[31m?\u001b[0m eta \u001b[36m-:--:--\u001b[0m\r\u001b[2K   \u001b[90m━━━━━━━━━━━━━━━━━━━━━━━━━━━━━━━━━━━━━━━━\u001b[0m \u001b[32m232.1/232.1 kB\u001b[0m \u001b[31m16.9 MB/s\u001b[0m eta \u001b[36m0:00:00\u001b[0m\n",
            "\u001b[?25h\u001b[?25l   \u001b[90m━━━━━━━━━━━━━━━━━━━━━━━━━━━━━━━━━━━━━━━━\u001b[0m \u001b[32m0.0/95.2 kB\u001b[0m \u001b[31m?\u001b[0m eta \u001b[36m-:--:--\u001b[0m\r\u001b[2K   \u001b[90m━━━━━━━━━━━━━━━━━━━━━━━━━━━━━━━━━━━━━━━━\u001b[0m \u001b[32m95.2/95.2 kB\u001b[0m \u001b[31m6.8 MB/s\u001b[0m eta \u001b[36m0:00:00\u001b[0m\n",
            "\u001b[?25h\u001b[?25l   \u001b[90m━━━━━━━━━━━━━━━━━━━━━━━━━━━━━━━━━━━━━━━━\u001b[0m \u001b[32m0.0/217.1 kB\u001b[0m \u001b[31m?\u001b[0m eta \u001b[36m-:--:--\u001b[0m\r\u001b[2K   \u001b[90m━━━━━━━━━━━━━━━━━━━━━━━━━━━━━━━━━━━━━━━━\u001b[0m \u001b[32m217.1/217.1 kB\u001b[0m \u001b[31m15.9 MB/s\u001b[0m eta \u001b[36m0:00:00\u001b[0m\n",
            "\u001b[2K   \u001b[90m━━━━━━━━━━━━━━━━━━━━━━━━━━━━━━━━━━━━━━━━\u001b[0m \u001b[32m334.1/334.1 kB\u001b[0m \u001b[31m22.0 MB/s\u001b[0m eta \u001b[36m0:00:00\u001b[0m\n",
            "\u001b[2K   \u001b[90m━━━━━━━━━━━━━━━━━━━━━━━━━━━━━━━━━━━━━━━━\u001b[0m \u001b[32m125.1/125.1 kB\u001b[0m \u001b[31m10.1 MB/s\u001b[0m eta \u001b[36m0:00:00\u001b[0m\n",
            "\u001b[2K   \u001b[90m━━━━━━━━━━━━━━━━━━━━━━━━━━━━━━━━━━━━━━━━\u001b[0m \u001b[32m65.8/65.8 kB\u001b[0m \u001b[31m4.9 MB/s\u001b[0m eta \u001b[36m0:00:00\u001b[0m\n",
            "\u001b[2K   \u001b[90m━━━━━━━━━━━━━━━━━━━━━━━━━━━━━━━━━━━━━━━━\u001b[0m \u001b[32m119.0/119.0 kB\u001b[0m \u001b[31m8.9 MB/s\u001b[0m eta \u001b[36m0:00:00\u001b[0m\n",
            "\u001b[2K   \u001b[90m━━━━━━━━━━━━━━━━━━━━━━━━━━━━━━━━━━━━━━━━\u001b[0m \u001b[32m194.9/194.9 kB\u001b[0m \u001b[31m15.1 MB/s\u001b[0m eta \u001b[36m0:00:00\u001b[0m\n",
            "\u001b[2K   \u001b[90m━━━━━━━━━━━━━━━━━━━━━━━━━━━━━━━━━━━━━━━━\u001b[0m \u001b[32m62.5/62.5 kB\u001b[0m \u001b[31m4.7 MB/s\u001b[0m eta \u001b[36m0:00:00\u001b[0m\n",
            "\u001b[2K   \u001b[90m━━━━━━━━━━━━━━━━━━━━━━━━━━━━━━━━━━━━━━━━\u001b[0m \u001b[32m103.3/103.3 kB\u001b[0m \u001b[31m8.0 MB/s\u001b[0m eta \u001b[36m0:00:00\u001b[0m\n",
            "\u001b[2K   \u001b[90m━━━━━━━━━━━━━━━━━━━━━━━━━━━━━━━━━━━━━━━━\u001b[0m \u001b[32m44.4/44.4 kB\u001b[0m \u001b[31m3.2 MB/s\u001b[0m eta \u001b[36m0:00:00\u001b[0m\n",
            "\u001b[2K   \u001b[90m━━━━━━━━━━━━━━━━━━━━━━━━━━━━━━━━━━━━━━━━\u001b[0m \u001b[32m72.0/72.0 kB\u001b[0m \u001b[31m4.8 MB/s\u001b[0m eta \u001b[36m0:00:00\u001b[0m\n",
            "\u001b[?25h"
          ]
        }
      ]
    },
    {
      "cell_type": "code",
      "execution_count": 9,
      "metadata": {
        "id": "aePV2bdfDeoW"
      },
      "outputs": [],
      "source": [
        "from google.adk.agents import Agent\n",
        "from google.adk.runners import Runner\n",
        "from google.adk.sessions import InMemorySessionService\n",
        "from google.adk.tools import google_search\n",
        "from google.genai import types  # Para criar conteúdos (Content e Part)\n",
        "from datetime import date\n",
        "import textwrap # Para formatar melhor a saída de texto\n",
        "from IPython.display import display, Markdown # Para exibir texto formatado no Colab\n",
        "import requests # Para fazer requisições HTTP\n",
        "import warnings\n",
        "\n",
        "warnings.filterwarnings(\"ignore\")"
      ]
    },
    {
      "cell_type": "code",
      "source": [
        "# Função auxiliar que envia uma mensagem para um agente via Runner e retorna a resposta final\n",
        "def call_agent(agent: Agent, message_text: str) -> str:\n",
        "    # Cria um serviço de sessão em memória\n",
        "    session_service = InMemorySessionService()\n",
        "    # Cria uma nova sessão (você pode personalizar os IDs conforme necessário)\n",
        "    session = session_service.create_session(app_name=agent.name, user_id=\"user1\", session_id=\"session1\")\n",
        "    # Cria um Runner para o agente\n",
        "    runner = Runner(agent=agent, app_name=agent.name, session_service=session_service)\n",
        "    # Cria o conteúdo da mensagem de entrada\n",
        "    content = types.Content(role=\"user\", parts=[types.Part(text=message_text)])\n",
        "\n",
        "    final_response = \"\"\n",
        "    # Itera assincronamente pelos eventos retornados durante a execução do agente\n",
        "    for event in runner.run(user_id=\"user1\", session_id=\"session1\", new_message=content):\n",
        "        if event.is_final_response():\n",
        "          for part in event.content.parts:\n",
        "            if part.text is not None:\n",
        "              final_response += part.text\n",
        "              final_response += \"\\n\"\n",
        "    return final_response"
      ],
      "metadata": {
        "id": "_xP4lWhsS5ko"
      },
      "execution_count": 10,
      "outputs": []
    },
    {
      "cell_type": "code",
      "source": [
        "# Função auxiliar para exibir texto formatado em Markdown no Colab\n",
        "def to_markdown(text):\n",
        "  text = text.replace('•', '  *')\n",
        "  return Markdown(textwrap.indent(text, '> ', predicate=lambda _: True))"
      ],
      "metadata": {
        "id": "8dosiodaxfFR"
      },
      "execution_count": 11,
      "outputs": []
    },
    {
      "cell_type": "code",
      "source": [
        "##########################################\n",
        "# --- Agente 1: Buscador de Notícias --- #\n",
        "##########################################\n",
        "\n",
        "def agente_buscador(topico, data_de_hoje):\n",
        "    buscador = Agent(\n",
        "        name=\"agente_buscador\",\n",
        "        model=\"gemini-2.0-flash\",\n",
        "        description=\"Agente que busca notícias sobre o tópico indicado\",\n",
        "        tools=[google_search],\n",
        "        instruction=\"\"\"\n",
        "        Você é um assitente de pesquisa. A sua tarefa é usar a ferramenta de busca do google (google_search)\n",
        "        para recuperar as ultimas notícias de lançamentos muito relevantes sobre o tópico abaixo.\n",
        "        foque em no máximos 5 lançamentos relevantes, com base na quantidade e entusiasmo ds notícias sobre ele.\n",
        "        se o um tema tiver poucas notícias ou reações entusiamadas, é possível que ele não seja tão relevante assim\n",
        "        e pode ser substituído por outro que tenha mais.\n",
        "        esses lançamento relevante devem ser atuais, de no máximo um mês antes da data de hoje\n",
        "        \"\"\"\n",
        "    )\n",
        "    entrada_do_agente_buscador = f\"Tópico: {topico}\\nData de hoje: {data_de_hoje}\"\n",
        "    # Executa o agente\n",
        "    lancamentos_buscados = call_agent(buscador, entrada_do_agente_buscador)\n",
        "    return lancamentos_buscados\n"
      ],
      "metadata": {
        "id": "o8bqIfi_DyH8"
      },
      "execution_count": 21,
      "outputs": []
    },
    {
      "cell_type": "code",
      "source": [
        "################################################\n",
        "# --- Agente 2: Planejador de posts --- #\n",
        "################################################\n",
        "def agente_planejador(topico, lancamentos_buscados):\n",
        "    planejador = Agent(\n",
        "        name=\"agente_planejador\",\n",
        "        model=\"gemini-2.0-flash\",\n",
        "        # Inserir as instruções do Agente Planejador #################################################\n",
        "        instruction=\"\"\"\n",
        "        Você é um planejador de conteúdo, especialista em redes sociais. com base na lista de\n",
        "        lançamentos mais recentes e relevantes buscador, você deve:\n",
        "        usar ferramentas de busca do google (google_search) para criar um plano sobre\n",
        "        quais são os pontos mais relevantes que poderíamos abordar em um poste sobre\n",
        "        cada um deles. Você também pode usar o (google_search) para encontrar mais\n",
        "        informações sobre os temas e aprofundar.\n",
        "        Ao final, você irá escolher o tema mais relevante entre eles com na base nas suas pesquisas,\n",
        "        e retornar esse temas, seus pontos mais relevantes, e um plano com os assuntos\n",
        "        a serem abordados no post que será escrito posteriormente.\n",
        "        \"\"\",\n",
        "        description=\"Agente que planeja posts\",\n",
        "        tools=[google_search]\n",
        "    )\n",
        "\n",
        "    entrada_do_agente_planejador = f\"Tópico:{topico}\\nLançamentos buscados: {lancamentos_buscados}\"\n",
        "    # Executa o agente\n",
        "    plano_do_post = call_agent(planejador, entrada_do_agente_planejador)\n",
        "    return plano_do_post"
      ],
      "metadata": {
        "id": "y3VO1uo5_ghO"
      },
      "execution_count": 13,
      "outputs": []
    },
    {
      "cell_type": "code",
      "source": [
        "######################################\n",
        "# --- Agente 3: Redator do Post --- #\n",
        "######################################\n",
        "def agente_redator(topico, plano_de_post):\n",
        "    redator = Agent(\n",
        "        name=\"agente_redator\",\n",
        "        #model=\"gemini-2.5-pro-preview-03-25\",\n",
        "        model=\"gemini-2.0-flash\",\n",
        "        instruction=\"\"\"\n",
        "            Você é um Redator Criativo especializado em criar posts virais para redes sociais.\n",
        "            Você escreve posts para a empresa Alura, a maior escola online de tecnologia do Brasil.\n",
        "            Utilize o tema fornecido no plano de post e os pontos mais relevantes fornecidos e, com base nisso,\n",
        "            escreva um rascunho de post para Instagram sobre o tema indicado.\n",
        "            O post deve ser engajador, informativo, com linguagem simples e incluir 2 a 4 hashtags no final.\n",
        "            \"\"\",\n",
        "        description=\"Agente redator de posts engajadores para Instagram\"\n",
        "    )\n",
        "    entrada_do_agente_redator = f\"Tópico: {topico}\\nPlano de post: {plano_de_post}\"\n",
        "    # Executa o agente\n",
        "    rascunho = call_agent(redator, entrada_do_agente_redator)\n",
        "    return rascunho"
      ],
      "metadata": {
        "id": "uOqlg2TRLVh1"
      },
      "execution_count": 29,
      "outputs": []
    },
    {
      "cell_type": "code",
      "source": [
        "##########################################\n",
        "# --- Agente 4: Revisor de Qualidade --- #\n",
        "##########################################\n",
        "def agente_revisor(topico, rascunho_gerado):\n",
        "    revisor = Agent(\n",
        "        name=\"agente_revisor\",\n",
        "        #model=\"gemini-2.5-pro-preview-03-25\",\n",
        "        model=\"gemini-2.0-flash\",\n",
        "        instruction=\"\"\"\n",
        "            Você é um Editor e Revisor de Conteúdo meticuloso, especializado em posts para redes sociais, com foco no Instagram.\n",
        "            Por ter um público jovem, entre 18 e 30 anos, use um tom de escrita adequado.\n",
        "            Revise o rascunho de post de Instagram abaixo sobre o tópico indicado, verificando clareza, concisão, correção e tom.\n",
        "            Se o rascunho estiver bom, responda apenas 'O rascunho está ótimo e pronto para publicar!'.\n",
        "            Caso haja problemas, aponte-os e sugira melhorias.\n",
        "            \"\"\",\n",
        "        description=\"Agente revisor de post para redes sociais.\"\n",
        "    )\n",
        "    entrada_do_agente_revisor = f\"Tópico: {topico}\\nRascunho: {rascunho_gerado}\"\n",
        "    # Executa o agente\n",
        "    texto_revisado = call_agent(revisor, entrada_do_agente_revisor)\n",
        "    return texto_revisado"
      ],
      "metadata": {
        "id": "_aTb1SdkLeT6"
      },
      "execution_count": 30,
      "outputs": []
    },
    {
      "cell_type": "code",
      "source": [
        "data_de_hoje = date.today().strftime(\"%d/%m/%Y\")\n",
        "\n",
        "print(\"🚀 Iniciando o Sistema de Criação de Posts para Instagram com 4 Agentes 🚀\")\n",
        "\n",
        "# --- Obter o Tópico do Usuário ---\n",
        "topico = input(\"❓ Por favor, digite o TÓPICO sobre o qual você quer criar o post de tendências: \")\n",
        "\n",
        "# Inserir lógica do sistema de agentes ################################################\n",
        "if not topico:\n",
        "  print(\"Você esqueceu de digitar o tópico!\")\n",
        "else:\n",
        "  print(\"Maravilha! Vamos então criar o post sobre as novidadades em \", topico)\n",
        "  lancamentos_buscados = agente_buscador(topico, data_de_hoje)\n",
        "  print(\"\\n--- 📝 Resultados do agente 1 (Buscador) ---\\n\")\n",
        "  display(to_markdown(lancamentos_buscados))\n",
        "  print(\"---------------------------------------------\")\n",
        "\n",
        "  plano_de_post = agente_planejador(topico, lancamentos_buscados)\n",
        "  print(\"\\n--- 📝 Resultados do agente 2 (Planejador) ---\\n\")\n",
        "  display(to_markdown(plano_de_post))\n",
        "  print(\"---------------------------------------------\")\n",
        "\n",
        "  rascunho_de_post = agente_redator(topico, plano_de_post)\n",
        "  print(\"\\n--- 📝 Resultados do agente 3 (Redator) ---\\n\")\n",
        "  display(to_markdown(rascunho_de_post))\n",
        "  print(\"---------------------------------------------\")\n",
        "\n",
        "  post_final = agente_revisor(topico, rascunho_de_post)\n",
        "  print(\"\\n--- 📝 Resultados do agente 4 (Revisor) ---\\n\")\n",
        "  display(to_markdown(post_final))\n",
        "  print(\"---------------------------------------------\")\n"
      ],
      "metadata": {
        "id": "630ummxz4myx",
        "colab": {
          "base_uri": "https://localhost:8080/",
          "height": 1000
        },
        "outputId": "483c7f97-f57e-4a9d-ea56-9db07d1a3279"
      },
      "execution_count": 31,
      "outputs": [
        {
          "name": "stdout",
          "output_type": "stream",
          "text": [
            "🚀 Iniciando o Sistema de Criação de Posts para Instagram com 4 Agentes 🚀\n",
            "❓ Por favor, digite o TÓPICO sobre o qual você quer criar o post de tendências: agente de ia\n"
          ]
        },
        {
          "output_type": "stream",
          "name": "stderr",
          "text": [
            "ERROR:asyncio:Task exception was never retrieved\n",
            "future: <Task finished name='Task-70' coro=<AsyncClient.aclose() done, defined at /usr/local/lib/python3.11/dist-packages/httpx/_client.py:1978> exception=RuntimeError('Event loop is closed')>\n",
            "Traceback (most recent call last):\n",
            "  File \"/usr/local/lib/python3.11/dist-packages/httpx/_client.py\", line 1985, in aclose\n",
            "    await self._transport.aclose()\n",
            "  File \"/usr/local/lib/python3.11/dist-packages/httpx/_transports/default.py\", line 406, in aclose\n",
            "    await self._pool.aclose()\n",
            "  File \"/usr/local/lib/python3.11/dist-packages/httpcore/_async/connection_pool.py\", line 353, in aclose\n",
            "    await self._close_connections(closing_connections)\n",
            "  File \"/usr/local/lib/python3.11/dist-packages/httpcore/_async/connection_pool.py\", line 345, in _close_connections\n",
            "    await connection.aclose()\n",
            "  File \"/usr/local/lib/python3.11/dist-packages/httpcore/_async/connection.py\", line 173, in aclose\n",
            "    await self._connection.aclose()\n",
            "  File \"/usr/local/lib/python3.11/dist-packages/httpcore/_async/http11.py\", line 258, in aclose\n",
            "    await self._network_stream.aclose()\n",
            "  File \"/usr/local/lib/python3.11/dist-packages/httpcore/_backends/anyio.py\", line 53, in aclose\n",
            "    await self._stream.aclose()\n",
            "  File \"/usr/local/lib/python3.11/dist-packages/anyio/streams/tls.py\", line 216, in aclose\n",
            "    await self.transport_stream.aclose()\n",
            "  File \"/usr/local/lib/python3.11/dist-packages/anyio/_backends/_asyncio.py\", line 1314, in aclose\n",
            "    self._transport.close()\n",
            "  File \"/usr/lib/python3.11/asyncio/selector_events.py\", line 864, in close\n",
            "    self._loop.call_soon(self._call_connection_lost, None)\n",
            "  File \"/usr/lib/python3.11/asyncio/base_events.py\", line 762, in call_soon\n",
            "    self._check_closed()\n",
            "  File \"/usr/lib/python3.11/asyncio/base_events.py\", line 520, in _check_closed\n",
            "    raise RuntimeError('Event loop is closed')\n",
            "RuntimeError: Event loop is closed\n"
          ]
        },
        {
          "output_type": "stream",
          "name": "stdout",
          "text": [
            "Maravilha! Vamos então criar o post sobre as novidadades em  agente de ia\n",
            "\n",
            "--- 📝 Resultados do agente 1 (Buscador) ---\n",
            "\n"
          ]
        },
        {
          "output_type": "display_data",
          "data": {
            "text/plain": [
              "<IPython.core.display.Markdown object>"
            ],
            "text/markdown": "> Para encontrar os lançamentos de agentes de IA mais relevantes e recentes, farei algumas pesquisas no Google. Tentarei identificar os lançamentos que geraram mais notícias e entusiasmo nos últimos meses.\n> \n> \n> Com base nas minhas pesquisas, aqui estão alguns dos lançamentos e tendências mais relevantes no espaço de agentes de IA em maio de 2025:\n> \n> 1.  **IBM watsonx Orchestrate:** A IBM anunciou atualizações para o watsonx Orchestrate, oferecendo soluções para integrar, personalizar e implementar agentes de IA. Inclui agentes pré-construídos para RH, vendas e compras, com integração com mais de 80 aplicações empresariais.\n> 2.  **Agentes de IA no e-commerce:** A Mastercard, em parceria com a Microsoft e IBM, lançou o Mastercard Agent Pay, permitindo que agentes de IA processem compras e realizem pagamentos em nome dos usuários. O ChatGPT também lançou uma funcionalidade para encontrar e comprar produtos diretamente na plataforma.\n> 3.  **Tendências de Agentes de IA segundo a Microsoft:** A Microsoft destaca que em 2025, uma nova geração de agentes de IA poderá lidar com várias tarefas, inclusive de forma autônoma, transformando cada processo de negócios.\n> 4.  **Crescimento do mercado de agentes de IA:** Previsões indicam que o mercado de agentes de IA será avaliado em US$ 47,1 bilhões até 2025, com um crescimento anual de 44,8% até 2030.\n> 5.  **Agentes de IA em Criptomoedas:** Há um crescente interesse em agentes de IA no espaço de criptomoedas, com foco em negociação, automação de tarefas e gerenciamento de comunidades descentralizadas. Alguns exemplos incluem AIXBT da Virtuals, AI16z, e Freysa IA.\n> \n> É importante notar que muitas empresas estão investindo fortemente no aprimoramento desses sistemas, tornando-os mais personalizados e eficientes. No entanto, desafios como privacidade de dados, regulação e impacto no mercado de trabalho exigem um debate amplo para garantir que esse avanço tecnológico seja inclusivo e sustentável.\n> \n"
          },
          "metadata": {}
        },
        {
          "output_type": "stream",
          "name": "stdout",
          "text": [
            "---------------------------------------------\n",
            "\n",
            "--- 📝 Resultados do agente 2 (Planejador) ---\n",
            "\n"
          ]
        },
        {
          "output_type": "display_data",
          "data": {
            "text/plain": [
              "<IPython.core.display.Markdown object>"
            ],
            "text/markdown": "> Com base nos lançamentos e tendências de agentes de IA que você levantou, podemos criar posts sobre cada um deles, focando nos pontos mais relevantes para o público. Aqui estão alguns planos de postagem:\n> \n> **1. IBM watsonx Orchestrate:**\n> \n> *   **Pontos Relevantes:**\n>     *   Integração e personalização de agentes de IA para empresas.\n>     *   Agentes pré-construídos para RH, vendas e compras.\n>     *   Integração com mais de 80 aplicações empresariais.\n> *   **Plano de Postagem:**\n>     *   Introdução: O que é o IBM watsonx Orchestrate e por que ele é importante para empresas?\n>     *   Destaque: Como a plataforma facilita a integração de IA em diversas áreas de negócios.\n>     *   Exemplos: Casos de uso de agentes pré-construídos em RH, vendas e compras.\n>     *   Integrações: Detalhes sobre as 80+ aplicações empresariais compatíveis.\n>     *   Chamada para Ação: Convide os seguidores a explorar como o watsonx Orchestrate pode otimizar seus negócios.\n> \n> **2. Agentes de IA no e-commerce:**\n> \n> *   **Pontos Relevantes:**\n>     *   Mastercard Agent Pay: Agentes de IA processando compras e pagamentos.\n>     *   ChatGPT: Funcionalidade para encontrar e comprar produtos diretamente.\n> *   **Plano de Postagem:**\n>     *   Introdução: A revolução da IA no e-commerce.\n>     *   Mastercard Agent Pay: Explicação de como agentes de IA podem realizar pagamentos de forma segura.\n>     *   ChatGPT: Demonstração da nova funcionalidade de compra e busca de produtos.\n>     *   Benefícios: Vantagens para consumidores e empresas (conveniência, personalização, etc.).\n>     *   Chamada para Ação: Pergunte aos seguidores se eles usariam agentes de IA para fazer compras online.\n> \n> **3. Tendências de Agentes de IA segundo a Microsoft:**\n> \n> *   **Pontos Relevantes:**\n>     *   Nova geração de agentes de IA capazes de lidar com múltiplas tarefas.\n>     *   Agentes autônomos transformando processos de negócios.\n> *   **Plano de Postagem:**\n>     *   Introdução: O futuro dos agentes de IA segundo a Microsoft.\n>     *   Capacidades: Exploração das habilidades multifuncionais dos novos agentes.\n>     *   Transformação: Como os processos de negócios estão sendo revolucionados pela autonomia da IA.\n>     *   Exemplos Práticos: Casos de uso em diferentes setores (saúde, finanças, logística, etc.).\n>     *   Chamada para Ação: Incentive os seguidores a discutir como a IA autônoma pode impactar suas áreas de atuação.\n> \n> **4. Crescimento do mercado de agentes de IA:**\n> \n> *   **Pontos Relevantes:**\n>     *   Mercado de US$ 47,1 bilhões até 2025.\n>     *   Crescimento anual de 44,8% até 2030.\n> *   **Plano de Postagem:**\n>     *   Introdução: Números impressionantes sobre o crescimento do mercado de agentes de IA.\n>     *   Estatísticas: Detalhes sobre o valor de mercado atual e as projeções futuras.\n>     *   Impulsionadores: Fatores que contribuem para esse crescimento (investimento, inovação, demanda).\n>     *   Oportunidades: Áreas onde o crescimento é mais evidente (e-commerce, saúde, finanças).\n>     *   Chamada para Ação: Pergunte aos seguidores se eles estão investindo ou planejando investir em IA.\n> \n> **5. Agentes de IA em Criptomoedas:**\n> \n> *   **Pontos Relevantes:**\n>     *   Foco em negociação, automação de tarefas e gestão de comunidades descentralizadas.\n>     *   Exemplos: AIXBT da Virtuals, AI16z, e Freysa IA.\n> *   **Plano de Postagem:**\n>     *   Introdução: A interseção entre IA e criptomoedas.\n>     *   Aplicações: Como a IA está sendo usada para otimizar negociações e automatizar tarefas no mundo cripto.\n>     *   Exemplos: Destaque para AIXBT, AI16z e Freysa IA, explicando o que cada um faz.\n>     *   Desafios: Discussão sobre os riscos e desafios de usar IA em criptomoedas.\n>     *   Chamada para Ação: Incentive os seguidores a compartilhar suas opiniões sobre o uso de IA no mercado de cripto.\n> \n> ## Escolha do Tema Mais Relevante e Plano Detalhado\n> \n> Após avaliar os temas, o mais relevante parece ser o **Tendências de Agentes de IA segundo a Microsoft.**\n> \n> **Justificativa:** Este tema oferece uma visão do futuro da IA, com agentes capazes de lidar com múltiplas tarefas de forma autônoma. É um tópico que gera curiosidade e interesse, pois impacta diversos setores e processos de negócios.\n> \n> ### Plano Detalhado de Postagem: Tendências de Agentes de IA segundo a Microsoft\n> \n> *   **Título:** \"A Revolução Autônoma: Como os Agentes de IA da Microsoft estão Transformando os Negócios\"\n> \n> *   **Objetivo:** Informar e engajar o público sobre as últimas tendências em agentes de IA, com foco na visão da Microsoft sobre agentes autônomos.\n> \n> *   **Conteúdo:**\n>     *   **Introdução:**\n>         *   Comece com uma pergunta impactante: \"Imagine um mundo onde cada processo de negócios é otimizado por agentes de IA autônomos. A Microsoft acredita que esse futuro está mais próximo do que imaginamos.\"\n>         *   Apresente o conceito de agentes de IA de nova geração, destacando sua capacidade de lidar com múltiplas tarefas.\n>     *   **Desenvolvimento:**\n>         *   **Agentes Multifuncionais:**\n>             *   Explique como esses agentes são capazes de integrar diversas habilidades e conhecimentos.\n>             *   Dê exemplos de tarefas que podem ser realizadas de forma autônoma (agendamento, análise de dados, atendimento ao cliente).\n>         *   **Transformação de Processos de Negócios:**\n>             *   Detalhe como a IA autônoma pode revolucionar diferentes áreas, como:\n>                 *   **Saúde:** Agentes que monitoram pacientes, agendam consultas e fornecem informações personalizadas.\n>                 *   **Finanças:** Agentes que analisam dados de mercado, gerenciam investimentos e detectam fraudes.\n>                 *   **Logística:** Agentes que otimizam rotas de entrega, gerenciam estoques e preveem demandas.\n>         *   **Visão da Microsoft:**\n>             *   Compartilhe citações ou trechos de artigos da Microsoft que sustentem essa visão.\n>             *   Destaque o investimento da empresa no desenvolvimento de agentes de IA autônomos.\n>     *   **Exemplos Práticos:**\n>         *   Apresente estudos de caso ou exemplos hipotéticos de empresas que já estão se beneficiando desses agentes.\n>         *   Use visuais (imagens, vídeos) para ilustrar esses exemplos.\n>     *   **Desafios e Considerações:**\n>         *   Aborde questões importantes como privacidade de dados, segurança e impacto no mercado de trabalho.\n>         *   Incentive a discussão sobre como garantir que essa tecnologia seja utilizada de forma ética e responsável.\n>     *   **Chamada para Ação:**\n>         *   Pergunte aos seguidores: \"Como você imagina que os agentes de IA autônomos podem transformar sua área de atuação?\"\n>         *   Convide-os a compartilhar suas ideias e opiniões nos comentários.\n>         *   Sugira que explorem mais sobre as soluções de IA da Microsoft.\n> \n> *   **Formato:**\n>     *   Texto conciso e informativo, com linguagem acessível.\n>     *   Use emojis para tornar o post mais atraente.\n>     *   Inclua imagens ou vídeos relevantes.\n> \n> *   **Hashtags:**\n>     *   \\#IA \\#AgentesDeIA \\#InteligenciaArtificial \\#Microsoft \\#Inovacao \\#Tecnologia \\#Futuro \\#Automacao\n> \n> Este plano detalhado deve fornecer uma base sólida para criar um post de alta qualidade sobre as tendências de agentes de IA segundo a Microsoft.\n> \n"
          },
          "metadata": {}
        },
        {
          "output_type": "stream",
          "name": "stdout",
          "text": [
            "---------------------------------------------\n",
            "\n",
            "--- 📝 Resultados do agente 3 (Redator) ---\n",
            "\n"
          ]
        },
        {
          "output_type": "display_data",
          "data": {
            "text/plain": [
              "<IPython.core.display.Markdown object>"
            ],
            "text/markdown": "> 🤖 O Futuro Chegou: Agentes de IA Autônomos Transformando o Mundo dos Negócios! 🚀\n> \n> Já imaginou um mundo onde cada processo da sua empresa é otimizado por agentes de IA que trabalham sozinhos? 🤯 A Microsoft acredita que esse futuro está mais perto do que pensamos!\n> \n> ✨ Agentes Multifuncionais:\n> Esses novos agentes são tipo \"faz tudo\" da tecnologia, integrando diversas habilidades e conhecimentos para automatizar tarefas como:\n> 🗓️ Agendamento inteligente\n> 📊 Análise de dados complexa\n> 💬 Atendimento ao cliente personalizado\n> \n> 💼 Transformação nos Negócios:\n> Na saúde, eles monitoram pacientes e agendam consultas. Nas finanças, analisam o mercado e detectam fraudes. Na logística, otimizam rotas e gerenciam estoques! 🩺💰🚚\n> \n> 🗣️ A Microsoft Acredita:\n> A gigante da tecnologia está investindo pesado nessa revolução, e nós da Alura estamos de olho em cada novidade! 👀\n> \n> 🤔 E você, como acha que os agentes de IA autônomos podem transformar a sua área de atuação? Compartilhe suas ideias nos comentários! 👇\n> \n> \\#IA \\#AgentesDeIA \\#InteligenciaArtificial \\#Microsoft\n> \n"
          },
          "metadata": {}
        },
        {
          "output_type": "stream",
          "name": "stdout",
          "text": [
            "---------------------------------------------\n",
            "\n",
            "--- 📝 Resultados do agente 4 (Revisor) ---\n",
            "\n"
          ]
        },
        {
          "output_type": "display_data",
          "data": {
            "text/plain": [
              "<IPython.core.display.Markdown object>"
            ],
            "text/markdown": "> O rascunho está ótimo, mas podemos fazer alguns ajustes para deixá-lo ainda mais engajador e alinhado com o público do Instagram:\n> \n> *   **Emojis:** Moderar um pouco o uso de emojis pode dar um ar mais profissional e menos \"infantil\" ao post.\n> *   **Linguagem:** Ajustar a linguagem para um tom mais conversacional e menos formal, sem perder a credibilidade.\n> *   **Chamada para ação (CTA):** Tornar a CTA mais direta e convidativa.\n> \n> **Sugestão de Rascunho Revisado:**\n> \n> 🤖 Já pensou em ter um \"faz tudo\" da tecnologia trabalhando na sua empresa? Os agentes de IA autônomos estão chegando pra revolucionar a forma como os negócios funcionam! 🚀\n> \n> ✨ O que eles fazem?\n> Esses agentes são super inteligentes e conseguem:\n> 🗓️ Agendar compromissos (sem dor de cabeça!)\n> 📊 Analisar dados complexos (e te dar insights valiosos)\n> 💬 Atender clientes de forma personalizada (e eficiente!)\n> \n> 💼 Onde eles atuam?\n> Na saúde, ajudam a monitorar pacientes e agendar consultas. Nas finanças, detectam fraudes e analisam o mercado. Na logística, otimizam rotas e gerenciam estoques. 🩺💰🚚\n> \n> A Microsoft tá investindo pesado nessa tecnologia e a gente da Alura tá de olho em tudo! 👀\n> \n> 🤔 E aí, como você acha que os agentes de IA podem turbinar o seu trabalho? Deixe sua opinião nos comentários! 👇\n> \n> \\#IA \\#AgentesDeIA \\#InteligenciaArtificial \\#Microsoft #Alura #Inovação #Tecnologia\n> \n> **Justificativas das mudanças:**\n> \n> *   **Emojis:** Reduzi a quantidade para um visual mais limpo e profissional.\n> *   **Linguagem:** Simplifiquei a linguagem, usando expressões como \"sem dor de cabeça\" e \"turbinar o seu trabalho\" para criar uma conexão mais próxima com o público.\n> *   **CTA:** Reforcei a chamada para ação, incentivando o engajamento nos comentários de forma mais direta.\n> *   **Hashtags:** Adicionei hashtags mais específicas e relevantes para aumentar o alcance do post.\n"
          },
          "metadata": {}
        },
        {
          "output_type": "stream",
          "name": "stdout",
          "text": [
            "---------------------------------------------\n"
          ]
        }
      ]
    }
  ]
}